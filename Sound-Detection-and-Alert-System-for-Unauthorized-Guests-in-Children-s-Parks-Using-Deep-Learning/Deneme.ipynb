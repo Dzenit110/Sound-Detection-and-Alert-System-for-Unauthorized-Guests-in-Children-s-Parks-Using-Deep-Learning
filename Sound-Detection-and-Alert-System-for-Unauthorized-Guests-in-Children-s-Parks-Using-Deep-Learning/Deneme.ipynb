{
 "cells": [
  {
   "cell_type": "code",
   "execution_count": null,
   "id": "3427614d-1d77-4984-8343-6bf00ac33bc8",
   "metadata": {},
   "outputs": [],
   "source": [
    "import pandas as pd\n",
    "print(\"test\")"
   ]
  },
  {
   "cell_type": "code",
   "execution_count": null,
   "id": "1265a983-0cd3-4173-9128-50f3ce34d9f2",
   "metadata": {},
   "outputs": [],
   "source": [
    "x=10;\n",
    "\n"
   ]
  },
  {
   "cell_type": "code",
   "execution_count": null,
   "id": "813d4517-a512-40b1-9fcd-f4a5681260be",
   "metadata": {},
   "outputs": [],
   "source": [
    "print(x)"
   ]
  },
  {
   "cell_type": "markdown",
   "id": "a2cc33c1-fa32-475c-8d53-5bbc073a464b",
   "metadata": {},
   "source": [
    "# Bu bir yorumdur\n"
   ]
  },
  {
   "cell_type": "markdown",
   "id": "4e2729bc-dcd1-4b89-a97a-2fab91ff6ef3",
   "metadata": {},
   "source": [
    "# Burada bir deneme"
   ]
  },
  {
   "cell_type": "code",
   "execution_count": null,
   "id": "460eb9bd-0c32-45ad-89c0-f9509caca6ed",
   "metadata": {},
   "outputs": [],
   "source": [
    "for item in range (1,11):\n",
    "    print(item)"
   ]
  },
  {
   "cell_type": "markdown",
   "id": "924b4269-bb9d-4004-b6e7-9d770adddc7a",
   "metadata": {},
   "source": [
    "<h2>Başlık h2</h2>"
   ]
  },
  {
   "cell_type": "code",
   "execution_count": null,
   "id": "e59a366d-ee21-4590-a62e-af269a5fdd1b",
   "metadata": {},
   "outputs": [],
   "source": [
    "!pip uninstall numba"
   ]
  },
  {
   "cell_type": "code",
   "execution_count": 2,
   "id": "3286d321-3604-4142-a413-3d5009533b24",
   "metadata": {
    "scrolled": true
   },
   "outputs": [
    {
     "name": "stdout",
     "output_type": "stream",
     "text": [
      "Name: numba\n",
      "Version: 0.58.1\n",
      "Summary: compiling Python code using LLVM\n",
      "Home-page: https://numba.pydata.org\n",
      "Author: \n",
      "Author-email: \n",
      "License: BSD\n",
      "Location: c:\\users\\pc\\appdata\\roaming\\python\\python38\\site-packages\n",
      "Requires: importlib-metadata, llvmlite, numpy\n",
      "Required-by: librosa\n",
      "Note: you may need to restart the kernel to use updated packages.\n"
     ]
    }
   ],
   "source": [
    "pip show numba"
   ]
  },
  {
   "cell_type": "code",
   "execution_count": 3,
   "id": "fd280cc4-43a0-4f33-b940-ea56d57fe0a2",
   "metadata": {},
   "outputs": [
    {
     "name": "stdout",
     "output_type": "stream",
     "text": [
      "test\n"
     ]
    }
   ],
   "source": [
    "import tensorflow as tf\n",
    "from tensorflow.keras import datasets, layers, models\n",
    "print(\"test\")\n"
   ]
  },
  {
   "cell_type": "code",
   "execution_count": null,
   "id": "06a9d3c1-f3e4-4ccd-a68d-0e3bac45911a",
   "metadata": {},
   "outputs": [],
   "source": []
  }
 ],
 "metadata": {
  "kernelspec": {
   "display_name": "Python 3 (ipykernel)",
   "language": "python",
   "name": "python3"
  },
  "language_info": {
   "codemirror_mode": {
    "name": "ipython",
    "version": 3
   },
   "file_extension": ".py",
   "mimetype": "text/x-python",
   "name": "python",
   "nbconvert_exporter": "python",
   "pygments_lexer": "ipython3",
   "version": "3.8.18"
  }
 },
 "nbformat": 4,
 "nbformat_minor": 5
}
